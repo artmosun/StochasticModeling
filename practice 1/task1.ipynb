{
 "cells": [
  {
   "cell_type": "markdown",
   "metadata": {},
   "source": [
    "Библиотеки"
   ]
  },
  {
   "cell_type": "code",
   "execution_count": 41,
   "metadata": {},
   "outputs": [],
   "source": [
    "import numpy as np\n",
    "from typing import List\n",
    "import matplotlib.pyplot as plt\n",
    "import matplotlib.animation as animation"
   ]
  },
  {
   "cell_type": "markdown",
   "metadata": {},
   "source": [
    "Константы"
   ]
  },
  {
   "cell_type": "code",
   "execution_count": 42,
   "metadata": {},
   "outputs": [],
   "source": [
    "L = 10 #размер сетки\n",
    "n = L * L\n",
    "T = 32 #время"
   ]
  },
  {
   "cell_type": "markdown",
   "metadata": {},
   "source": [
    "Создание кластера и первой заполненной точки"
   ]
  },
  {
   "cell_type": "code",
   "execution_count": 43,
   "metadata": {},
   "outputs": [
    {
     "name": "stdout",
     "output_type": "stream",
     "text": [
      "[[0. 0. 0. 0. 0. 0. 0. 0. 0. 0.]\n",
      " [0. 0. 0. 0. 0. 0. 0. 0. 0. 0.]\n",
      " [0. 0. 0. 0. 0. 0. 0. 0. 0. 0.]\n",
      " [0. 0. 0. 0. 0. 0. 0. 0. 0. 0.]\n",
      " [0. 1. 0. 0. 0. 0. 0. 0. 0. 0.]\n",
      " [0. 0. 0. 0. 0. 0. 0. 0. 0. 0.]\n",
      " [0. 0. 0. 0. 0. 0. 0. 0. 0. 0.]\n",
      " [0. 0. 0. 0. 0. 0. 0. 0. 0. 0.]\n",
      " [0. 0. 0. 0. 0. 0. 0. 0. 0. 0.]\n",
      " [0. 0. 0. 0. 0. 0. 0. 0. 0. 0.]]\n"
     ]
    }
   ],
   "source": [
    "cluster = np.zeros((L, L))\n",
    "x = np.random.randint(L)\n",
    "y = np.random.randint(L)\n",
    "cluster[x, y] = 1\n",
    "print(cluster)"
   ]
  },
  {
   "cell_type": "markdown",
   "metadata": {},
   "source": [
    "Поиск соседей"
   ]
  },
  {
   "cell_type": "code",
   "execution_count": 44,
   "metadata": {},
   "outputs": [],
   "source": [
    "def get_neighbors(x, y) -> List[tuple]:\n",
    "    neighbors = []\n",
    "    for x_ in range(max(0, x - 1), min(L, x + 2)):\n",
    "        for y_ in range(max(0, y - 1), min(L, y + 2)):\n",
    "            if (x, y) != (x_, y_) and cluster[x_, y_] != 1:                \n",
    "                neighbors.append((x_, y_))\n",
    "    return neighbors\n",
    "\n",
    "cluster_border = get_neighbors(x, y)"
   ]
  },
  {
   "cell_type": "markdown",
   "metadata": {},
   "source": [
    "Функция для заливки новой рандомной точки из границы"
   ]
  },
  {
   "cell_type": "code",
   "execution_count": 45,
   "metadata": {},
   "outputs": [],
   "source": [
    "def fill_random_border_point():\n",
    "    if cluster_border is not None:\n",
    "        x, y = cluster_border.pop(np.random.randint(len(cluster_border)))\n",
    "        cluster[x, y] = 1\n",
    "        for node in get_neighbors(x, y):\n",
    "            if node not in cluster_border:\n",
    "                cluster_border.append(node)"
   ]
  },
  {
   "cell_type": "markdown",
   "metadata": {},
   "source": [
    "Непосредственно сам процесс"
   ]
  },
  {
   "cell_type": "code",
   "execution_count": 46,
   "metadata": {},
   "outputs": [
    {
     "data": {
      "image/png": "[encoded data removed]",
      "text/plain": [
       "<Figure size 640x480 with 1 Axes>"
      ]
     },
     "metadata": {},
     "output_type": "display_data"
    }
   ],
   "source": [
    "fig, ax = plt.subplots()\n",
    "im = ax.imshow(cluster, cmap='viridis')\n",
    "ax.set_title(f\"Фрактальная размерность: {np.log(np.count_nonzero(cluster)) / np.log(1 / L)}\")\n",
    "\n",
    "def update(*args):\n",
    "    ax.set_title(f\"Фрактальная размерность: {np.log(np.count_nonzero(cluster)) / np.log(1 / L)}\")\n",
    "    im.set_array(cluster)\n",
    "    fill_random_border_point()    \n",
    "    return im,\n",
    "\n",
    "anim = animation.FuncAnimation(fig, update, frames=T)\n",
    "writergif = animation.PillowWriter(fps=60) \n",
    "anim.save(\"animation.gif\", writer=writergif)"
   ]
  }
 ],
 "metadata": {
  "kernelspec": {
   "display_name": "Python 3",
   "language": "python",
   "name": "python3"
  },
  "language_info": {
   "codemirror_mode": {
    "name": "ipython",
    "version": 3
   },
   "file_extension": ".py",
   "mimetype": "text/x-python",
   "name": "python",
   "nbconvert_exporter": "python",
   "pygments_lexer": "ipython3",
   "version": "3.10.11"
  },
  "orig_nbformat": 4
 },
 "nbformat": 4,
 "nbformat_minor": 2
}
